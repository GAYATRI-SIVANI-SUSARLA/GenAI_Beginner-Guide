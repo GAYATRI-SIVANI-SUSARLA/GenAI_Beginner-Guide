{
  "nbformat": 4,
  "nbformat_minor": 0,
  "metadata": {
    "colab": {
      "provenance": [],
      "include_colab_link": true
    },
    "kernelspec": {
      "name": "python3",
      "display_name": "Python 3"
    },
    "language_info": {
      "name": "python"
    }
  },
  "cells": [
    {
      "cell_type": "markdown",
      "metadata": {
        "id": "view-in-github",
        "colab_type": "text"
      },
      "source": [
        "<a href=\"https://colab.research.google.com/github/GAYATRI-SIVANI-SUSARLA/GenAI_Beginner-Guide/blob/main/Next_Word_Preidiction.ipynb\" target=\"_parent\"><img src=\"https://colab.research.google.com/assets/colab-badge.svg\" alt=\"Open In Colab\"/></a>"
      ]
    },
    {
      "cell_type": "code",
      "execution_count": null,
      "metadata": {
        "colab": {
          "base_uri": "https://localhost:8080/"
        },
        "id": "InTlCAvpHFzG",
        "outputId": "00c0e5ae-18af-4b1f-8923-19810e1062ff"
      },
      "outputs": [
        {
          "output_type": "stream",
          "name": "stdout",
          "text": [
            "Input: 'the earth is a'\n",
            "Predicted Next Word: ' place'\n"
          ]
        }
      ],
      "source": [
        "from transformers import GPT2LMHeadModel, GPT2Tokenizer\n",
        "\n",
        "## Load pre-trained GPT-2 model and tokenizer\n",
        "model_name = 'GPT2'\n",
        "tokenizer = GPT2Tokenizer.from_pretrained(model_name)\n",
        "model = GPT2LMHeadModel.from_pretrained(model_name)\n",
        "\n",
        "## Function to predict next word\n",
        "def predict_next_word(text):\n",
        "  input = tokenizer.encode(text, return_tensors = 'pt')\n",
        "\n",
        "  ## Get the model's prediction for next token\n",
        "  output = model(input)\n",
        "  logit = output.logits\n",
        "\n",
        "    ## get the predicted token(next word) from the logits\n",
        "  predicted_token_id = logit[0,-1,:].argmax().item()\n",
        "\n",
        "    ## decode the predicted token back to word\n",
        "  predicted_word = tokenizer.decode(predicted_token_id)\n",
        "\n",
        "  return predicted_word\n",
        "\n",
        "## example text input\n",
        "input = \"the earth is a\"\n",
        "\n",
        "## predict the next word\n",
        "next_word = predict_next_word(input)\n",
        "\n",
        "## output the result\n",
        "print(f\"Input: '{input}'\")\n",
        "print(f\"Predicted Next Word: '{next_word}'\")\n"
      ]
    }
  ]
}